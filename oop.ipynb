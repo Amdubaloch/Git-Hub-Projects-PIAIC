{
 "cells": [
  {
   "cell_type": "code",
   "execution_count": 2,
   "metadata": {},
   "outputs": [
    {
     "name": "stdout",
     "output_type": "stream",
     "text": [
      "sir kamran\n",
      "Black\n",
      "soft\n"
     ]
    }
   ],
   "source": [
    "class Human:\n",
    "    def __init__(self, name:str , eye_color:str, voice_tone:str):\n",
    "        self.name = name\n",
    "        self.eyes = eye_color\n",
    "        self.voice = voice_tone\n",
    "\n",
    "sir_kamran = Human(\"sir kamran\", \"Black\", \"soft\")\n",
    "print(sir_kamran.name)\n",
    "print(sir_kamran.eyes)\n",
    "print(sir_kamran.voice)"
   ]
  },
  {
   "cell_type": "code",
   "execution_count": null,
   "metadata": {},
   "outputs": [],
   "source": [
    "class Human:\n",
    "    def __init__(self):\n",
    "        self.name = name\n",
    "        self.eyes = eye_color\n",
    "        self.voice = voice_tone\n",
    "\n",
    "sir_kamran = Human(\"sir kamran\", \"Black\", \"soft\")\n",
    "print(sir_kamran.name)\n",
    "print(sir_kamran.eyes)\n",
    "print(sir_kamran.voice)"
   ]
  }
 ],
 "metadata": {
  "kernelspec": {
   "display_name": "Python 3",
   "language": "python",
   "name": "python3"
  },
  "language_info": {
   "codemirror_mode": {
    "name": "ipython",
    "version": 3
   },
   "file_extension": ".py",
   "mimetype": "text/x-python",
   "name": "python",
   "nbconvert_exporter": "python",
   "pygments_lexer": "ipython3",
   "version": "3.13.2"
  }
 },
 "nbformat": 4,
 "nbformat_minor": 2
}
