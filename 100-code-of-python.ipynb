{
 "cells": [
  {
   "cell_type": "markdown",
   "metadata": {},
   "source": [
    "Level 1\n",
    "\n",
    "Question: Write a program which will find all such numbers which are divisible by 7 but are not a multiple of 5, between 2000 and 3200 (both included). The numbers obtained should be printed in a comma-separated sequence on a single line.\n",
    "\n",
    "Hints: Consider use range(#begin, #end) method"
   ]
  },
  {
   "cell_type": "code",
   "execution_count": 5,
   "metadata": {},
   "outputs": [
    {
     "name": "stdout",
     "output_type": "stream",
     "text": [
      "['2002', '2009', '2016', '2023', '2030', '2037', '2044', '2051', '2058', '2065', '2072', '2079', '2086', '2093', '2100', '2107', '2114', '2121', '2128', '2135', '2142', '2149', '2156', '2163', '2170', '2177', '2184', '2191', '2198', '2205', '2212', '2219', '2226', '2233', '2240', '2247', '2254', '2261', '2268', '2275', '2282', '2289', '2296', '2303', '2310', '2317', '2324', '2331', '2338', '2345', '2352', '2359', '2366', '2373', '2380', '2387', '2394', '2401', '2408', '2415', '2422', '2429', '2436', '2443', '2450', '2457', '2464', '2471', '2478', '2485', '2492', '2499', '2506', '2513', '2520', '2527', '2534', '2541', '2548', '2555', '2562', '2569', '2576', '2583', '2590', '2597', '2604', '2611', '2618', '2625', '2632', '2639', '2646', '2653', '2660', '2667', '2674', '2681', '2688', '2695', '2702', '2709', '2716', '2723', '2730', '2737', '2744', '2751', '2758', '2765', '2772', '2779', '2786', '2793', '2800', '2807', '2814', '2821', '2828', '2835', '2842', '2849', '2856', '2863', '2870', '2877', '2884', '2891', '2898', '2905', '2912', '2919', '2926', '2933', '2940', '2947', '2954', '2961', '2968', '2975', '2982', '2989', '2996', '3003', '3010', '3017', '3024', '3031', '3038', '3045', '3052', '3059', '3066', '3073', '3080', '3087', '3094', '3101', '3108', '3115', '3122', '3129', '3136', '3143', '3150', '3157', '3164', '3171', '3178', '3185', '3192', '3199']\n"
     ]
    }
   ],
   "source": [
    "results = []\n",
    "\n",
    "for num in range (2000 , 3201):\n",
    "    if num % 7 ==0 and num != 0:\n",
    "        results.append(str(num))\n",
    "print(results)"
   ]
  },
  {
   "cell_type": "markdown",
   "metadata": {},
   "source": [
    "Question 2\n",
    "Level 1\n",
    "\n",
    "Question: Write a program which can compute the factorial of a given numbers. The results should be printed in a comma-separated sequence on a single line. Suppose the following input is supplied to the program: 8 Then, the output should be: 40320\n",
    "\n",
    "Hints: In case of input data being supplied to the question, it should be assumed to be a console input."
   ]
  },
  {
   "cell_type": "code",
   "execution_count": 1,
   "metadata": {},
   "outputs": [
    {
     "name": "stdout",
     "output_type": "stream",
     "text": [
      "40320\n"
     ]
    }
   ],
   "source": [
    "num = int(input(\"Enter a number\"))\n",
    "factriol = 1\n",
    "\n",
    "for i in range (1, num +1):\n",
    "    factriol = factriol * i\n",
    "print(factriol)"
   ]
  },
  {
   "cell_type": "markdown",
   "metadata": {},
   "source": [
    "Question 3\n",
    "Level 1\n",
    "\n",
    "Question: With a given integral number n, write a program to generate a dictionary that contains (i, i*i) such that is an integral number between 1 and n (both included). and then the program should print the dictionary. Suppose the following input is supplied to the program: 8 Then, the output should be: {1: 1, 2: 4, 3: 9, 4: 16, 5: 25, 6: 36, 7: 49, 8: 64}\n",
    "\n",
    "Hints: In case of input data being supplied to the question, it should be assumed to be a console input. Consider use dict()"
   ]
  },
  {
   "cell_type": "code",
   "execution_count": 15,
   "metadata": {},
   "outputs": [
    {
     "name": "stdout",
     "output_type": "stream",
     "text": [
      "{1: 1, 2: 4, 3: 9, 4: 16, 5: 25, 6: 36, 7: 49, 8: 64}\n"
     ]
    }
   ],
   "source": [
    "nums = int(input(\"Enter a Number: \"))\n",
    "rslt = {}\n",
    "\n",
    "for i in range (1, nums + 1):\n",
    "    rslt[i] = i*i\n",
    "print(rslt)"
   ]
  },
  {
   "cell_type": "markdown",
   "metadata": {},
   "source": [
    "Question 4\n",
    "Level 1\n",
    "\n",
    "Question: Write a program which accepts a sequence of comma-separated numbers from console and generate a list and a tuple which contains every number. Suppose the following input is supplied to the program: 34,67,55,33,12,98 Then, the output should be: ['34', '67', '55', '33', '12', '98'] ('34', '67', '55', '33', '12', '98')\n",
    "\n",
    "Hints: In case of input data being supplied to the question, it should be assumed to be a console input. tuple() method can convert list to tuple"
   ]
  },
  {
   "cell_type": "code",
   "execution_count": 3,
   "metadata": {},
   "outputs": [
    {
     "name": "stdout",
     "output_type": "stream",
     "text": [
      "list: ['325', '32461', '42', '236', '3']\n",
      "tuple: ('325', '32461', '42', '236', '3')\n"
     ]
    }
   ],
   "source": [
    "number = input(\"Enter a comma sperated number: \")\n",
    "\n",
    "number_list = number.split(\",\")\n",
    "\n",
    "number_tuple = tuple(number_list)\n",
    "\n",
    "print(\"list:\",number_list)\n",
    "print(\"tuple:\",number_tuple)\n"
   ]
  },
  {
   "cell_type": "markdown",
   "metadata": {},
   "source": [
    "Question 5\n",
    "Level 1\n",
    "\n",
    "Question: Define a class which has at least two methods: getString: to get a string from console input printString: to print the string in upper case. Also please include simple test function to test the class methods.\n",
    "\n",
    "Hints: Use init method to construct some parameters"
   ]
  },
  {
   "cell_type": "code",
   "execution_count": 2,
   "metadata": {},
   "outputs": [
    {
     "name": "stdout",
     "output_type": "stream",
     "text": [
      "HELLO WORLD\n"
     ]
    }
   ],
   "source": [
    "class Input_string:\n",
    "    def __init__(self):\n",
    "        self.s = \"\"\n",
    "\n",
    "    def getString(self):\n",
    "        self.s = input(\"Enter a string: \")\n",
    "\n",
    "    def printString(self):\n",
    "        print(self.s.upper())\n",
    "print_string = Input_string()\n",
    "print_string.getString()\n",
    "print_string.printString()"
   ]
  },
  {
   "cell_type": "markdown",
   "metadata": {},
   "source": [
    "Question 6\n",
    "Level 2\n",
    "\n",
    "Question: Write a program that calculates and prints the value according to the given formula: Q = Square root of [(2 * C * D)/H] Following are the fixed values of C and H: C is 50. H is 30. D is the variable whose values should be input to your program in a comma-separated sequence. Example Let us assume the following comma separated input sequence is given to the program: 100,150,180 The output of the program should be: 18,22,24\n",
    "\n",
    "Hints: If the output received is in decimal form, it should be rounded off to its nearest value (for example, if the output received is 26.0, it should be printed as 26) In case of input data being supplied to the question, it should be assumed to be a console input."
   ]
  },
  {
   "cell_type": "code",
   "execution_count": 5,
   "metadata": {},
   "outputs": [
    {
     "ename": "NameError",
     "evalue": "name 'C' is not defined",
     "output_type": "error",
     "traceback": [
      "\u001b[1;31m---------------------------------------------------------------------------\u001b[0m",
      "\u001b[1;31mNameError\u001b[0m                                 Traceback (most recent call last)",
      "Cell \u001b[1;32mIn[5], line 10\u001b[0m\n\u001b[0;32m      8\u001b[0m \u001b[38;5;28;01mfor\u001b[39;00m D \u001b[38;5;129;01min\u001b[39;00m D_values:\n\u001b[0;32m      9\u001b[0m     D \u001b[38;5;241m=\u001b[39m \u001b[38;5;28mint\u001b[39m(D)  \n\u001b[1;32m---> 10\u001b[0m     Q \u001b[38;5;241m=\u001b[39m math\u001b[38;5;241m.\u001b[39msqrt((\u001b[38;5;241m2\u001b[39m \u001b[38;5;241m*\u001b[39m \u001b[43mC\u001b[49m \u001b[38;5;241m*\u001b[39m D))\n\u001b[0;32m     11\u001b[0m     results\u001b[38;5;241m.\u001b[39mappend(\u001b[38;5;28mround\u001b[39m(Q)) \n\u001b[0;32m     13\u001b[0m \u001b[38;5;28mprint\u001b[39m(\u001b[38;5;124m\"\u001b[39m\u001b[38;5;124m,\u001b[39m\u001b[38;5;124m\"\u001b[39m\u001b[38;5;241m.\u001b[39mjoin(\u001b[38;5;28mmap\u001b[39m(\u001b[38;5;28mstr\u001b[39m, results)))\n",
      "\u001b[1;31mNameError\u001b[0m: name 'C' is not defined"
     ]
    }
   ],
   "source": [
    "import math\n",
    "c = 50\n",
    "h = 30\n",
    "value = []\n",
    "D_values = input(\"Enter comma-separated values for D: \").split(',')\n",
    "results = []\n",
    "\n",
    "for D in D_values:\n",
    "    D = int(D)  \n",
    "    Q = math.sqrt((2 * C * D))\n",
    "    results.append(round(Q)) \n",
    "\n",
    "print(\",\".join(map(str, results)))\n"
   ]
  }
 ],
 "metadata": {
  "kernelspec": {
   "display_name": "Python 3",
   "language": "python",
   "name": "python3"
  },
  "language_info": {
   "codemirror_mode": {
    "name": "ipython",
    "version": 3
   },
   "file_extension": ".py",
   "mimetype": "text/x-python",
   "name": "python",
   "nbconvert_exporter": "python",
   "pygments_lexer": "ipython3",
   "version": "3.13.2"
  }
 },
 "nbformat": 4,
 "nbformat_minor": 2
}
